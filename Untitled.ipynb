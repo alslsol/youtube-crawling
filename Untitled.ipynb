{
 "cells": [
  {
   "cell_type": "code",
   "execution_count": 3,
   "id": "3de211cb-317c-4bf4-afe9-2556c88f8b1a",
   "metadata": {},
   "outputs": [],
   "source": [
    "from kiwipiepy import Kiwi\n",
    "from kiwipiepy.utils import Stopwords\n",
    "import pandas as pd\n",
    "import re\n",
    "\n",
    "# 1. 제목의 쉼표, 이모티콘, 특수문자 등 삭제\n",
    "def clean_title(text):\n",
    "    text = str(text)\n",
    "    text = re.sub(r'[\\U00010000-\\U0010ffff]', '', text)  # 이모지 제거\n",
    "    text = text.replace(',', '')                         # 쉼표 제거\n",
    "    text = re.sub(r'[^\\w\\s]', '', text)                  # 특수문자 제거\n",
    "    text = text.strip()                                  # 앞뒤 공백 제거\n",
    "    return text\n",
    "\n",
    "# 2. Kiwi 형태소 분석기\n",
    "def tokenize_and_remove_stopwords(text):\n",
    "    kiwi = Kiwi()  # Kiwi 형태소 분석기 객체 생성\n",
    "    stopwords = Stopwords().stopwords  # 불용어 리스트\n",
    "    tokens = kiwi.tokenize(text)  # 형태소 분석\n",
    "    filtered_tokens = [token.form for token in tokens if token.form not in stopwords]  # 불용어 제거\n",
    "    return filtered_tokens\n"
   ]
  },
  {
   "cell_type": "code",
   "execution_count": 6,
   "id": "466f2d63-2976-48fe-ba0d-ce5ab7bda786",
   "metadata": {},
   "outputs": [],
   "source": [
    "# 3. csv 파일 읽기\n",
    "columns = ['date', 'title', 'channel', 'view_count']\n",
    "df = pd.read_csv('/home/ubuntu/damf2/yootube/data/2025-04-23.csv', names=columns, header=0, encoding='utf-8')\n",
    "df = df.drop('date', axis=1)\n",
    "df['title'] = df['title'].apply(clean_title)  # 제목에 불용어 없애기\n",
    "df['tokens'] = df['title'].apply(tokenize_and_remove_stopwords)  # 불용어 제거 및 형태소 분석\n"
   ]
  },
  {
   "cell_type": "code",
   "execution_count": null,
   "id": "07d803df-5fd5-4c7e-8769-ccb54fba0137",
   "metadata": {},
   "outputs": [],
   "source": [
    "# 4. 결과 확인\n",
    "for i in range(2):  # 처음 2개 데이터 확인\n",
    "    print(f\"{i}번:\\n원문: {df['title'][i]}\\n토큰: {df['tokens'][i]}\\n\")\n"
   ]
  },
  {
   "cell_type": "code",
   "execution_count": 1,
   "id": "bac5feef-4346-4a5b-8244-98fa4b91b485",
   "metadata": {},
   "outputs": [],
   "source": [
    "# ex\n",
    "import pandas as pd\n",
    "columns = ['date', 'title', 'channel', 'view_count']\n",
    "df = pd.read_csv('/home/ubuntu/damf2/yootube/data/2025-04-23.csv', names=columns, header=0, encoding='utf-8')"
   ]
  },
  {
   "cell_type": "code",
   "execution_count": 2,
   "id": "26623492-20ee-4c0c-8b58-5081725afff6",
   "metadata": {},
   "outputs": [
    {
     "data": {
      "text/html": [
       "<div>\n",
       "<style scoped>\n",
       "    .dataframe tbody tr th:only-of-type {\n",
       "        vertical-align: middle;\n",
       "    }\n",
       "\n",
       "    .dataframe tbody tr th {\n",
       "        vertical-align: top;\n",
       "    }\n",
       "\n",
       "    .dataframe thead th {\n",
       "        text-align: right;\n",
       "    }\n",
       "</style>\n",
       "<table border=\"1\" class=\"dataframe\">\n",
       "  <thead>\n",
       "    <tr style=\"text-align: right;\">\n",
       "      <th></th>\n",
       "      <th>date</th>\n",
       "      <th>title</th>\n",
       "      <th>channel</th>\n",
       "      <th>view_count</th>\n",
       "    </tr>\n",
       "  </thead>\n",
       "  <tbody>\n",
       "    <tr>\n",
       "      <th>0</th>\n",
       "      <td>2025-04-23</td>\n",
       "      <td>[5회 하이라이트] 강찬석의 본캐는 죽지 않았다! 찬석의 한마디에 구사일생한 최일구...</td>\n",
       "      <td>ENA 이엔에이</td>\n",
       "      <td>1847519</td>\n",
       "    </tr>\n",
       "    <tr>\n",
       "      <th>1</th>\n",
       "      <td>2025-04-23</td>\n",
       "      <td>Hebi - '지금부터 (Onward)' Official MV</td>\n",
       "      <td>Hebi.</td>\n",
       "      <td>793513</td>\n",
       "    </tr>\n",
       "    <tr>\n",
       "      <th>2</th>\n",
       "      <td>2025-04-23</td>\n",
       "      <td>나 고백받았다 ㅋㅋ오예</td>\n",
       "      <td>와코</td>\n",
       "      <td>198327</td>\n",
       "    </tr>\n",
       "    <tr>\n",
       "      <th>3</th>\n",
       "      <td>2025-04-23</td>\n",
       "      <td>TWS (투어스) '마음 따라 뛰는 건 멋지지 않아?' Official MV</td>\n",
       "      <td>HYBE LABELS</td>\n",
       "      <td>8941182</td>\n",
       "    </tr>\n",
       "    <tr>\n",
       "      <th>4</th>\n",
       "      <td>2025-04-23</td>\n",
       "      <td>코 세우고(?) 스모키 화장한 후 부모님집 냉털하러 갔더니 엄마 반응이..🤣</td>\n",
       "      <td>쯔양밖정원</td>\n",
       "      <td>142946</td>\n",
       "    </tr>\n",
       "  </tbody>\n",
       "</table>\n",
       "</div>"
      ],
      "text/plain": [
       "         date                                              title      channel  \\\n",
       "0  2025-04-23  [5회 하이라이트] 강찬석의 본캐는 죽지 않았다! 찬석의 한마디에 구사일생한 최일구...     ENA 이엔에이   \n",
       "1  2025-04-23                 Hebi - '지금부터 (Onward)' Official MV        Hebi.   \n",
       "2  2025-04-23                                       나 고백받았다 ㅋㅋ오예           와코   \n",
       "3  2025-04-23         TWS (투어스) '마음 따라 뛰는 건 멋지지 않아?' Official MV  HYBE LABELS   \n",
       "4  2025-04-23         코 세우고(?) 스모키 화장한 후 부모님집 냉털하러 갔더니 엄마 반응이..🤣        쯔양밖정원   \n",
       "\n",
       "   view_count  \n",
       "0     1847519  \n",
       "1      793513  \n",
       "2      198327  \n",
       "3     8941182  \n",
       "4      142946  "
      ]
     },
     "execution_count": 2,
     "metadata": {},
     "output_type": "execute_result"
    }
   ],
   "source": [
    "df.head()"
   ]
  },
  {
   "cell_type": "code",
   "execution_count": null,
   "id": "31cce9f3-c8be-4518-af23-cfa692d403d2",
   "metadata": {},
   "outputs": [],
   "source": []
  }
 ],
 "metadata": {
  "kernelspec": {
   "display_name": "Python 3 (ipykernel)",
   "language": "python",
   "name": "python3"
  },
  "language_info": {
   "codemirror_mode": {
    "name": "ipython",
    "version": 3
   },
   "file_extension": ".py",
   "mimetype": "text/x-python",
   "name": "python",
   "nbconvert_exporter": "python",
   "pygments_lexer": "ipython3",
   "version": "3.11.12"
  }
 },
 "nbformat": 4,
 "nbformat_minor": 5
}
